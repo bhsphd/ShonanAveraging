{
  "nbformat": 4,
  "nbformat_minor": 0,
  "metadata": {
    "colab": {
      "name": "ShonanAveraging.ipynb",
      "provenance": [],
      "collapsed_sections": [],
      "authorship_tag": "ABX9TyOpUPSVyWKpuLmqggVGUt75",
      "include_colab_link": true
    },
    "kernelspec": {
      "name": "python3",
      "display_name": "Python 3"
    }
  },
  "cells": [
    {
      "cell_type": "markdown",
      "metadata": {
        "id": "view-in-github",
        "colab_type": "text"
      },
      "source": [
        "<a href=\"https://colab.research.google.com/github/dellaert/ShonanAveraging/blob/master/gtsam/ShonanAveraging.ipynb\" target=\"_parent\"><img src=\"https://colab.research.google.com/assets/colab-badge.svg\" alt=\"Open In Colab\"/></a>"
      ]
    },
    {
      "cell_type": "markdown",
      "metadata": {
        "id": "rpGKt5RksX3u",
        "colab_type": "text"
      },
      "source": [
        "# Shonan Rotation Averaging\n",
        "\n",
        "This is example code for the following ECCV 2020 paper:\n",
        "\n",
        "***Shonan Rotation Averaging: Global Optimality by Surfing SO(p)^n***\n",
        "\n",
        "by Frank Dellaert(1), David M. Rosen(2), Jing Wu(1), Robert Mahony(3), and Luca Carlone(2)\n",
        "\n",
        "1. Georgia Institute of Technology, Atlanta, GA\n",
        "2. Massachusetts Inst. of Technology, Cambridge, MA\n",
        "3. Australian National University, Canberra, Australia\n",
        "\n",
        "The project website can be found at https://dellaert.github.io/ShonanAveraging\n"
      ]
    },
    {
      "cell_type": "markdown",
      "metadata": {
        "id": "fPxeyA-1stu1",
        "colab_type": "text"
      },
      "source": [
        "We start by installing GTSAM and downloading an example input file:"
      ]
    },
    {
      "cell_type": "code",
      "metadata": {
        "id": "B5gzzC208aFP",
        "colab_type": "code",
        "colab": {}
      },
      "source": [
        "!pip install gtsam"
      ],
      "execution_count": null,
      "outputs": []
    },
    {
      "cell_type": "code",
      "metadata": {
        "id": "Pk9zZrePrIdf",
        "colab_type": "code",
        "colab": {}
      },
      "source": [
        "!wget https://raw.githubusercontent.com/dellaert/ShonanAveraging/master/gtsam/pose3example-grid.txt"
      ],
      "execution_count": null,
      "outputs": []
    },
    {
      "cell_type": "markdown",
      "metadata": {
        "id": "5nqvsNYEsz8_",
        "colab_type": "text"
      },
      "source": [
        "Importing gtsam brings *sooo many good things*, including Shonan rotation averaging."
      ]
    },
    {
      "cell_type": "code",
      "metadata": {
        "id": "opsSgsamGPqI",
        "colab_type": "code",
        "colab": {}
      },
      "source": [
        "import gtsam"
      ],
      "execution_count": 13,
      "outputs": []
    },
    {
      "cell_type": "markdown",
      "metadata": {
        "id": "DInrJq8brYGP",
        "colab_type": "text"
      },
      "source": [
        "Create a `ShonanAveraging3` instance:"
      ]
    },
    {
      "cell_type": "code",
      "metadata": {
        "id": "508ZxQ70PLhp",
        "colab_type": "code",
        "colab": {
          "base_uri": "https://localhost:8080/",
          "height": 35
        },
        "outputId": "751b5edf-8467-47b7-e8a1-95936d77f531"
      },
      "source": [
        "params = gtsam.ShonanAveragingParameters3(gtsam.LevenbergMarquardtParams.CeresDefaults())\n",
        "shonan = gtsam.ShonanAveraging3(\"pose3example-grid.txt\", params)\n",
        "print(\"{} unknown rotations\".format(shonan.nrUnknowns()))"
      ],
      "execution_count": 14,
      "outputs": [
        {
          "output_type": "stream",
          "text": [
            "27 unknown rotations\n"
          ],
          "name": "stdout"
        }
      ]
    },
    {
      "cell_type": "markdown",
      "metadata": {
        "id": "XFhMD5HRrdfX",
        "colab_type": "text"
      },
      "source": [
        "Create random initial values and run with $p_{min}=3$ and $p_{max}=10$."
      ]
    },
    {
      "cell_type": "code",
      "metadata": {
        "id": "wmDd1i0QPYGF",
        "colab_type": "code",
        "colab": {}
      },
      "source": [
        "initial = shonan.initializeRandomly()     \n",
        "rotations, min_eigenvalue = shonan.run(initial, 3, 10)"
      ],
      "execution_count": 15,
      "outputs": []
    },
    {
      "cell_type": "code",
      "metadata": {
        "id": "KCTfcXVxPmZg",
        "colab_type": "code",
        "colab": {
          "base_uri": "https://localhost:8080/",
          "height": 35
        },
        "outputId": "87c1a24a-87ed-4097-876d-9f9de9e00e9f"
      },
      "source": [
        "print(\"Terminated with minimumeigenvalue {}\".format(min_eigenvalue))"
      ],
      "execution_count": 16,
      "outputs": [
        {
          "output_type": "stream",
          "text": [
            "Terminated with minimumeigenvalue -2.5356239348184317e-06\n"
          ],
          "name": "stdout"
        }
      ]
    },
    {
      "cell_type": "markdown",
      "metadata": {
        "id": "2n1jYKD_sKRm",
        "colab_type": "text"
      },
      "source": [
        "The eigenvalue above is very close to zero, which says we converged to the global optimimum. Below you can examine the optimal rotations as GTSAM `Rot3` instances (to get consistent answers we remove the random gauge):"
      ]
    },
    {
      "cell_type": "code",
      "metadata": {
        "id": "YdphnTIbr6Ye",
        "colab_type": "code",
        "colab": {
          "base_uri": "https://localhost:8080/",
          "height": 1000
        },
        "outputId": "12317ed2-e84e-4117-957b-73e5a13d2a10"
      },
      "source": [
        "R0 = rotations.atRot3(0)\n",
        "for j in range(rotations.size()):\n",
        "  print(R0.between(rotations.atRot3(j)))"
      ],
      "execution_count": 17,
      "outputs": [
        {
          "output_type": "stream",
          "text": [
            "R: [\n",
            "\t1, 3.88578e-16, 7.35523e-16;\n",
            "\t3.88578e-16, 1, 5.55112e-17;\n",
            "\t7.21645e-16, 5.55112e-17, 1\n",
            "]\n",
            "\n",
            "R: [\n",
            "\t-0.16983, 0.341288, -0.924489;\n",
            "\t-0.836293, -0.546177, -0.0480009;\n",
            "\t-0.521317, 0.764992, 0.378174\n",
            "]\n",
            "\n",
            "R: [\n",
            "\t0.464324, 0.404099, -0.788104;\n",
            "\t-0.879831, 0.312432, -0.358167;\n",
            "\t0.101494, 0.859703, 0.500609\n",
            "]\n",
            "\n",
            "R: [\n",
            "\t-0.934421, -0.235831, -0.26691;\n",
            "\t0.338166, -0.352191, -0.8727;\n",
            "\t0.111807, -0.905729, 0.408845\n",
            "]\n",
            "\n",
            "R: [\n",
            "\t-0.314647, -0.259541, -0.913037;\n",
            "\t0.778695, 0.479474, -0.404647;\n",
            "\t0.542799, -0.838298, 0.0512382\n",
            "]\n",
            "\n",
            "R: [\n",
            "\t0.0109482, -0.27131, -0.96243;\n",
            "\t0.935284, 0.343258, -0.0861256;\n",
            "\t0.353729, -0.899202, 0.25751\n",
            "]\n",
            "\n",
            "R: [\n",
            "\t-0.0646798, 0.636028, -0.768951;\n",
            "\t-0.596262, 0.593252, 0.540855;\n",
            "\t0.80018, 0.493478, 0.340868\n",
            "]\n",
            "\n",
            "R: [\n",
            "\t0.532497, -0.762249, -0.367999;\n",
            "\t-0.227591, 0.289814, -0.929629;\n",
            "\t0.81526, 0.578778, -0.019156\n",
            "]\n",
            "\n",
            "R: [\n",
            "\t0.285297, 0.744229, -0.603928;\n",
            "\t-0.75515, 0.562576, 0.336536;\n",
            "\t0.590215, 0.360044, 0.722506\n",
            "]\n",
            "\n",
            "R: [\n",
            "\t0.991046, -0.0684847, -0.114623;\n",
            "\t0.0654358, 0.997401, -0.0301583;\n",
            "\t0.11639, 0.0223878, 0.992951\n",
            "]\n",
            "\n",
            "R: [\n",
            "\t-0.314746, -0.430515, -0.845927;\n",
            "\t0.883577, -0.458459, -0.0954322;\n",
            "\t-0.346738, -0.777478, 0.524691\n",
            "]\n",
            "\n",
            "R: [\n",
            "\t0.235845, -0.939831, 0.247172;\n",
            "\t0.594211, -0.0617916, -0.801932;\n",
            "\t0.768954, 0.336004, 0.543885\n",
            "]\n",
            "\n",
            "R: [\n",
            "\t-0.233807, -0.763722, 0.601716;\n",
            "\t0.551609, 0.405438, 0.728936;\n",
            "\t-0.800663, 0.502342, 0.326482\n",
            "]\n",
            "\n",
            "R: [\n",
            "\t-0.752655, -0.322724, 0.573898;\n",
            "\t0.64193, -0.165859, 0.74861;\n",
            "\t-0.146408, 0.931848, 0.332001\n",
            "]\n",
            "\n",
            "R: [\n",
            "\t-0.55887, 0.826086, 0.0724358;\n",
            "\t-0.462313, -0.382897, 0.799785;\n",
            "\t0.688427, 0.413488, 0.5959\n",
            "]\n",
            "\n",
            "R: [\n",
            "\t-0.628827, -0.184921, -0.755235;\n",
            "\t-0.718021, -0.234615, 0.655288;\n",
            "\t-0.298366, 0.954338, 0.0147551\n",
            "]\n",
            "\n",
            "R: [\n",
            "\t0.442288, 0.729122, 0.522267;\n",
            "\t-0.892407, 0.415814, 0.175238;\n",
            "\t-0.0893959, -0.54358, 0.834583\n",
            "]\n",
            "\n",
            "R: [\n",
            "\t0.530748, 0.443057, -0.7225;\n",
            "\t-0.823784, 0.0693061, -0.562651;\n",
            "\t-0.199213, 0.893811, 0.401767\n",
            "]\n",
            "\n",
            "R: [\n",
            "\t0.999997, 0.00238326, 0.000228576;\n",
            "\t-0.00237934, 0.999871, -0.0158567;\n",
            "\t-0.000266338, 0.0158561, 0.999874\n",
            "]\n",
            "\n",
            "R: [\n",
            "\t-0.173155, 0.626201, 0.76019;\n",
            "\t-0.956474, -0.290999, 0.0218449;\n",
            "\t0.234894, -0.72332, 0.649333\n",
            "]\n",
            "\n",
            "R: [\n",
            "\t0.947369, 0.161846, -0.276222;\n",
            "\t-0.315084, 0.624174, -0.714933;\n",
            "\t0.0567018, 0.764338, 0.642318\n",
            "]\n",
            "\n",
            "R: [\n",
            "\t-0.315103, -0.306005, -0.898372;\n",
            "\t-0.51675, -0.738654, 0.432851;\n",
            "\t-0.79604, 0.600626, 0.074624\n",
            "]\n",
            "\n",
            "R: [\n",
            "\t-0.938277, -0.0691539, 0.338901;\n",
            "\t0.279447, -0.728955, 0.624928;\n",
            "\t0.203827, 0.68106, 0.703286\n",
            "]\n",
            "\n",
            "R: [\n",
            "\t-0.47584, -0.677699, -0.560626;\n",
            "\t0.746864, -0.64798, 0.149382;\n",
            "\t-0.46451, -0.347629, 0.814484\n",
            "]\n",
            "\n",
            "R: [\n",
            "\t0.360731, 0.871084, -0.333296;\n",
            "\t-0.386088, -0.185832, -0.90355;\n",
            "\t-0.849005, 0.45462, 0.26928\n",
            "]\n",
            "\n",
            "R: [\n",
            "\t-0.80673, 0.00784601, -0.590868;\n",
            "\t-0.42918, -0.695106, 0.576742;\n",
            "\t-0.406191, 0.718864, 0.56413\n",
            "]\n",
            "\n",
            "R: [\n",
            "\t0.020544, -0.744057, 0.6678;\n",
            "\t0.999787, 0.0167182, -0.0121299;\n",
            "\t-0.00213913, 0.667907, 0.744242\n",
            "]\n",
            "\n"
          ],
          "name": "stdout"
        }
      ]
    },
    {
      "cell_type": "code",
      "metadata": {
        "id": "0EQ5eUEasVuF",
        "colab_type": "code",
        "colab": {}
      },
      "source": [
        ""
      ],
      "execution_count": 17,
      "outputs": []
    }
  ]
}